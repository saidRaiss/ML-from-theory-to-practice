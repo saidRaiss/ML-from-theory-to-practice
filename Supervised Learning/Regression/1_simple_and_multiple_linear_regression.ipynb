{
  "nbformat": 4,
  "nbformat_minor": 0,
  "metadata": {
    "kernelspec": {
      "language": "python",
      "display_name": "Python 3",
      "name": "python3"
    },
    "language_info": {
      "pygments_lexer": "ipython3",
      "nbconvert_exporter": "python",
      "version": "3.6.4",
      "file_extension": ".py",
      "codemirror_mode": {
        "name": "ipython",
        "version": 3
      },
      "name": "python",
      "mimetype": "text/x-python"
    },
    "colab": {
      "name": "supervised-learning-linear-regression-advertising.ipynb",
      "provenance": []
    }
  },
  "cells": [
    {
      "cell_type": "markdown",
      "metadata": {
        "id": "EUzMYXxdiwyP"
      },
      "source": [
        "## Introduction\n",
        "We will be work on both single and multiple linear regression using the Scikit-Learn library and we will show how to assess the quality of the parameters and the overall model in both situations.\n",
        "### Dataset description\n",
        "The dataset contains information about the money spent on television, radio and newspaper advertising, as well as the sales generated.\n",
        "### Goal\n",
        "The goal is to use linear regression to understand the impact of ad spend on sales."
      ]
    },
    {
      "cell_type": "markdown",
      "metadata": {
        "id": "THl96Pe1j48I"
      },
      "source": [
        "### Libraries we use!\n"
      ]
    },
    {
      "cell_type": "code",
      "metadata": {
        "id": "yNPaC5-tgNlR",
        "trusted": true
      },
      "source": [
        "import pandas as pd\n",
        "import numpy as np\n",
        "import seaborn as sns\n",
        "import matplotlib.pyplot as plt\n",
        "from sklearn.linear_model import LinearRegression\n",
        "from sklearn.metrics import r2_score\n",
        "import statsmodels.api as sm"
      ],
      "execution_count": null,
      "outputs": []
    },
    {
      "cell_type": "markdown",
      "metadata": {
        "id": "hv93NuBVluDK"
      },
      "source": [
        "### Loading dataset\n",
        "I have placed the data in a github directory in csv format. Then access will be via the https protocol."
      ]
    },
    {
      "cell_type": "code",
      "metadata": {
        "id": "hzi5IiaVmU3h",
        "trusted": true
      },
      "source": [
        "data = pd.read_csv(\n",
        "    \"https://raw.githubusercontent.com/saidRaiss/dataset/master/advertising_ads\"\n",
        "  )"
      ],
      "execution_count": null,
      "outputs": []
    },
    {
      "cell_type": "markdown",
      "metadata": {
        "id": "BiSKW285YxHE"
      },
      "source": [
        "To discover the dataset for the first time, the **info()** method is useful for getting an overview: number of data, number of columns, column names and column data types."
      ]
    },
    {
      "cell_type": "code",
      "metadata": {
        "id": "ogGoU-_GYCnr",
        "trusted": true,
        "outputId": "36cc9bb8-db0a-44bb-a6b9-d9ebf17e51d5"
      },
      "source": [
        "data.info()"
      ],
      "execution_count": null,
      "outputs": [
        {
          "output_type": "stream",
          "text": [
            "<class 'pandas.core.frame.DataFrame'>\n",
            "RangeIndex: 200 entries, 0 to 199\n",
            "Data columns (total 5 columns):\n",
            " #   Column      Non-Null Count  Dtype  \n",
            "---  ------      --------------  -----  \n",
            " 0   Unnamed: 0  200 non-null    int64  \n",
            " 1   TV          200 non-null    float64\n",
            " 2   radio       200 non-null    float64\n",
            " 3   newspaper   200 non-null    float64\n",
            " 4   sales       200 non-null    float64\n",
            "dtypes: float64(4), int64(1)\n",
            "memory usage: 7.9 KB\n"
          ],
          "name": "stdout"
        }
      ]
    },
    {
      "cell_type": "markdown",
      "metadata": {
        "id": "-rlfspZKOnKz"
      },
      "source": [
        "### Visualization"
      ]
    },
    {
      "cell_type": "code",
      "metadata": {
        "id": "yOSP-mjZPBRe",
        "trusted": true,
        "outputId": "660093f5-3af8-4ef5-b183-5cc8960b2d6b"
      },
      "source": [
        "data.head() # Display first five values (default)\n",
        "# Or use the sample(n) method to display n random values."
      ],
      "execution_count": null,
      "outputs": [
        {
          "output_type": "execute_result",
          "data": {
            "text/plain": [
              "   Unnamed: 0     TV  radio  newspaper  sales\n",
              "0           1  230.1   37.8       69.2   22.1\n",
              "1           2   44.5   39.3       45.1   10.4\n",
              "2           3   17.2   45.9       69.3    9.3\n",
              "3           4  151.5   41.3       58.5   18.5\n",
              "4           5  180.8   10.8       58.4   12.9"
            ],
            "text/html": [
              "<div>\n",
              "<style scoped>\n",
              "    .dataframe tbody tr th:only-of-type {\n",
              "        vertical-align: middle;\n",
              "    }\n",
              "\n",
              "    .dataframe tbody tr th {\n",
              "        vertical-align: top;\n",
              "    }\n",
              "\n",
              "    .dataframe thead th {\n",
              "        text-align: right;\n",
              "    }\n",
              "</style>\n",
              "<table border=\"1\" class=\"dataframe\">\n",
              "  <thead>\n",
              "    <tr style=\"text-align: right;\">\n",
              "      <th></th>\n",
              "      <th>Unnamed: 0</th>\n",
              "      <th>TV</th>\n",
              "      <th>radio</th>\n",
              "      <th>newspaper</th>\n",
              "      <th>sales</th>\n",
              "    </tr>\n",
              "  </thead>\n",
              "  <tbody>\n",
              "    <tr>\n",
              "      <th>0</th>\n",
              "      <td>1</td>\n",
              "      <td>230.1</td>\n",
              "      <td>37.8</td>\n",
              "      <td>69.2</td>\n",
              "      <td>22.1</td>\n",
              "    </tr>\n",
              "    <tr>\n",
              "      <th>1</th>\n",
              "      <td>2</td>\n",
              "      <td>44.5</td>\n",
              "      <td>39.3</td>\n",
              "      <td>45.1</td>\n",
              "      <td>10.4</td>\n",
              "    </tr>\n",
              "    <tr>\n",
              "      <th>2</th>\n",
              "      <td>3</td>\n",
              "      <td>17.2</td>\n",
              "      <td>45.9</td>\n",
              "      <td>69.3</td>\n",
              "      <td>9.3</td>\n",
              "    </tr>\n",
              "    <tr>\n",
              "      <th>3</th>\n",
              "      <td>4</td>\n",
              "      <td>151.5</td>\n",
              "      <td>41.3</td>\n",
              "      <td>58.5</td>\n",
              "      <td>18.5</td>\n",
              "    </tr>\n",
              "    <tr>\n",
              "      <th>4</th>\n",
              "      <td>5</td>\n",
              "      <td>180.8</td>\n",
              "      <td>10.8</td>\n",
              "      <td>58.4</td>\n",
              "      <td>12.9</td>\n",
              "    </tr>\n",
              "  </tbody>\n",
              "</table>\n",
              "</div>"
            ]
          },
          "metadata": {
            "tags": []
          },
          "execution_count": 4
        }
      ]
    },
    {
      "cell_type": "markdown",
      "metadata": {
        "id": "jcJx2fmSRJVg"
      },
      "source": [
        "As you can see, the **Unnamed: 0** column is redundant. Therefore, we are removing it."
      ]
    },
    {
      "cell_type": "code",
      "metadata": {
        "id": "rx2FKJA5RfOD",
        "trusted": true
      },
      "source": [
        "data.drop(['Unnamed: 0'], axis=1, inplace=True)\n",
        "# axis=1 it indicates that it is a column (axis=0 for index).\n",
        "# inplace=True it indicates that the modification made to the data variable."
      ],
      "execution_count": null,
      "outputs": []
    },
    {
      "cell_type": "markdown",
      "metadata": {
        "id": "UyVxRBncTngx"
      },
      "source": [
        "Now let's show some dataset values"
      ]
    },
    {
      "cell_type": "code",
      "metadata": {
        "id": "pJFhmR9kWRTH",
        "trusted": true,
        "outputId": "37172d5e-2415-4dd0-eaf8-59bc2b3e0772"
      },
      "source": [
        "data.sample(5)"
      ],
      "execution_count": null,
      "outputs": [
        {
          "output_type": "execute_result",
          "data": {
            "text/plain": [
              "        TV  radio  newspaper  sales\n",
              "181  218.5    5.4       27.4   12.2\n",
              "135   48.3   47.0        8.5   11.6\n",
              "170   50.0   11.6       18.4    8.4\n",
              "80    76.4   26.7       22.3   11.8\n",
              "25   262.9    3.5       19.5   12.0"
            ],
            "text/html": [
              "<div>\n",
              "<style scoped>\n",
              "    .dataframe tbody tr th:only-of-type {\n",
              "        vertical-align: middle;\n",
              "    }\n",
              "\n",
              "    .dataframe tbody tr th {\n",
              "        vertical-align: top;\n",
              "    }\n",
              "\n",
              "    .dataframe thead th {\n",
              "        text-align: right;\n",
              "    }\n",
              "</style>\n",
              "<table border=\"1\" class=\"dataframe\">\n",
              "  <thead>\n",
              "    <tr style=\"text-align: right;\">\n",
              "      <th></th>\n",
              "      <th>TV</th>\n",
              "      <th>radio</th>\n",
              "      <th>newspaper</th>\n",
              "      <th>sales</th>\n",
              "    </tr>\n",
              "  </thead>\n",
              "  <tbody>\n",
              "    <tr>\n",
              "      <th>181</th>\n",
              "      <td>218.5</td>\n",
              "      <td>5.4</td>\n",
              "      <td>27.4</td>\n",
              "      <td>12.2</td>\n",
              "    </tr>\n",
              "    <tr>\n",
              "      <th>135</th>\n",
              "      <td>48.3</td>\n",
              "      <td>47.0</td>\n",
              "      <td>8.5</td>\n",
              "      <td>11.6</td>\n",
              "    </tr>\n",
              "    <tr>\n",
              "      <th>170</th>\n",
              "      <td>50.0</td>\n",
              "      <td>11.6</td>\n",
              "      <td>18.4</td>\n",
              "      <td>8.4</td>\n",
              "    </tr>\n",
              "    <tr>\n",
              "      <th>80</th>\n",
              "      <td>76.4</td>\n",
              "      <td>26.7</td>\n",
              "      <td>22.3</td>\n",
              "      <td>11.8</td>\n",
              "    </tr>\n",
              "    <tr>\n",
              "      <th>25</th>\n",
              "      <td>262.9</td>\n",
              "      <td>3.5</td>\n",
              "      <td>19.5</td>\n",
              "      <td>12.0</td>\n",
              "    </tr>\n",
              "  </tbody>\n",
              "</table>\n",
              "</div>"
            ]
          },
          "metadata": {
            "tags": []
          },
          "execution_count": 6
        }
      ]
    },
    {
      "cell_type": "markdown",
      "metadata": {
        "id": "YF0em8z6ct-Q"
      },
      "source": [
        "### Correlation between variables\n",
        "The statistical relationship between two variables is called their correlation. A correlation can be positive (<= 1), which means that the two variables move in the same direction, or negative (> = - 1), which means that when the value of one variable increases, the values ​​of the others variables decrease (regression). If the correlation between two variables close to 0 then they are not correlated."
      ]
    },
    {
      "cell_type": "code",
      "metadata": {
        "id": "aFXmE7nFeZNp",
        "trusted": true,
        "outputId": "a559586f-beac-42e4-ad02-d4a482765973"
      },
      "source": [
        "correlation = data.corr()\n",
        "# correlation plot\n",
        "sns.heatmap(correlation, annot= True);"
      ],
      "execution_count": null,
      "outputs": [
        {
          "output_type": "display_data",
          "data": {
            "text/plain": [
              "<Figure size 432x288 with 2 Axes>"
            ],
            "image/png": "[encoded data removed]"
          },
          "metadata": {
            "tags": [],
            "needs_background": "light"
          }
        }
      ]
    },
    {
      "cell_type": "markdown",
      "metadata": {
        "id": "S8QHlYAlIvz-"
      },
      "source": [
        "As you can see the **sales** output has a higher correlation with the **TV** variable than the **radio** variable and a non-correlation with the **newspaper** variable. Ultimately newspaper advertising does not matter much than TV or radio advertising, which should be shown in the following steps."
      ]
    },
    {
      "cell_type": "markdown",
      "metadata": {
        "id": "RCX7nLkSJ2aY"
      },
      "source": [
        "## Simple linear regression\n",
        "For a simple linear regression, consider only the effect of TV ads on sales. Let's see what the data looks like before we jump straight to modeling."
      ]
    },
    {
      "cell_type": "code",
      "metadata": {
        "id": "okvdUMTHKjM0",
        "trusted": true,
        "outputId": "3a93153f-6b51-46b4-f318-0c053e88ba1f"
      },
      "source": [
        "# We use matplotlib, a popular Python plotting library, to create points.\n",
        "plt.figure(figsize=(12, 6))\n",
        "plt.scatter(\n",
        "    data['TV'],\n",
        "    data['sales'],\n",
        "    c='red'\n",
        ")\n",
        "plt.xlabel(\"Money spent on TV ads ($)\")\n",
        "plt.ylabel(\"Sales (k$)\")\n",
        "plt.show()"
      ],
      "execution_count": null,
      "outputs": [
        {
          "output_type": "display_data",
          "data": {
            "text/plain": [
              "<Figure size 864x432 with 1 Axes>"
            ],
            "image/png": "[encoded data removed]"
          },
          "metadata": {
            "tags": [],
            "needs_background": "light"
          }
        }
      ]
    },
    {
      "cell_type": "markdown",
      "metadata": {
        "id": "2BlZFR3UL0lY"
      },
      "source": [
        "As you can see, there is a clear relationship between the amount spent on **TV** and **sales**. Let's see how we can generate a **linear approximation** of this data."
      ]
    },
    {
      "cell_type": "code",
      "metadata": {
        "id": "JtkJrI5ZeO-b",
        "trusted": true,
        "outputId": "11727886-f9c9-4761-b1bc-8e6a7c0d40c3"
      },
      "source": [
        "# Input\n",
        "X = data['TV'].values.reshape(-1, 1)\n",
        "# Output\n",
        "Y = data['sales'].values.reshape(-1, 1)\n",
        "# Create a linear regression model\n",
        "reg = LinearRegression()\n",
        "# \"fit\" a data to train\n",
        "reg.fit(X, Y)\n",
        "print(\n",
        "    \"The linear model is: Y={:.5} + {:.5}X\"\n",
        "    .format(reg.intercept_[0], reg.coef_[0][0])\n",
        "    )"
      ],
      "execution_count": null,
      "outputs": [
        {
          "output_type": "stream",
          "text": [
            "The linear model is: Y=7.0326 + 0.047537X\n"
          ],
          "name": "stdout"
        }
      ]
    },
    {
      "cell_type": "markdown",
      "metadata": {
        "id": "GRjQy0XjNX9c"
      },
      "source": [
        "So in this case Sales(k$) = 7.03 + 0.04 * TV. Now let's see how the row matches the data."
      ]
    },
    {
      "cell_type": "code",
      "metadata": {
        "id": "Lg-hiysFOXuw",
        "trusted": true,
        "outputId": "887f4df5-44c0-419e-95ae-84f3b886a670"
      },
      "source": [
        "predictions = reg.predict(X)\n",
        "plt.figure(figsize=(12, 6))\n",
        "plt.scatter(\n",
        "    data['TV'],\n",
        "    data['sales'],\n",
        "    c='red'\n",
        ")\n",
        "plt.plot(\n",
        "    data['TV'],\n",
        "    predictions,\n",
        "    c='blue',\n",
        "    linewidth = 2\n",
        ")\n",
        "plt.xlabel(\"Money spent on TV ads ($)\")\n",
        "plt.ylabel(\"Sales (k$)\")\n",
        "plt.show()"
      ],
      "execution_count": null,
      "outputs": [
        {
          "output_type": "display_data",
          "data": {
            "text/plain": [
              "<Figure size 864x432 with 1 Axes>"
            ],
            "image/png": "[encoded data removed]"
          },
          "metadata": {
            "tags": [],
            "needs_background": "light"
          }
        }
      ]
    },
    {
      "cell_type": "markdown",
      "metadata": {
        "id": "Z0s-Vae0O95s"
      },
      "source": [
        "From the graph above, it seems that a simple linear regression can explain the relationship between the amount spent on TV and sales."
      ]
    },
    {
      "cell_type": "markdown",
      "metadata": {
        "id": "IGZRryICPCDI"
      },
      "source": [
        "## Multiple linear regression\n",
        "Like a simple linear regression, we will define the matrix of input variables (TV, radio, newspaper)  and the target variable (sales) and use the scikit-learn library to perform linear regression ."
      ]
    },
    {
      "cell_type": "code",
      "metadata": {
        "trusted": true,
        "id": "z1xG2R-1kOh1",
        "outputId": "a75d67a2-3ce7-42a1-df6a-2e91153e31c2"
      },
      "source": [
        "Xm = data.drop(['sales'], axis=1)\n",
        "Y = data['sales'].values.reshape(-1, 1)\n",
        "reg = LinearRegression()\n",
        "reg.fit(Xm, Y)\n",
        "print(\n",
        "    \"The linear model is: Y={:.5} + {:.5}*TV + {:.5}*radio + {:.5}*newspaper\"\n",
        "    .format(\n",
        "        reg.intercept_[0], reg.coef_[0][0], reg.coef_[0][1], reg.coef_[0][2]\n",
        "        )\n",
        "    )"
      ],
      "execution_count": null,
      "outputs": [
        {
          "output_type": "stream",
          "text": [
            "The linear model is: Y=2.9389 + 0.045765*TV + 0.18853*radio + -0.0010375*newspaper\n"
          ],
          "name": "stdout"
        }
      ]
    },
    {
      "cell_type": "markdown",
      "metadata": {
        "id": "ywcA3-cgPPop"
      },
      "source": [
        "Note that the coefficient for the newspaper is negative, but also quite small. Is this enough for our model? Let's see by calculating the F-statistic, the R² value and p-value for each coefficient.\n",
        "\n"
      ]
    },
    {
      "cell_type": "markdown",
      "metadata": {
        "id": "lUVXVZOMSy2d"
      },
      "source": [
        "### Evaluate the accuracy of the model\n",
        "To see if the model is good, we need to look at the F-static value, the R² value, and the p-value of each coefficient."
      ]
    },
    {
      "cell_type": "code",
      "metadata": {
        "id": "VtcxgsTbSrlu",
        "trusted": true,
        "outputId": "f1b7c3e9-4c7f-439e-9cc5-73af7992b543"
      },
      "source": [
        "X = np.column_stack((data['TV'], data['radio'], data['newspaper']))\n",
        "Y = data['sales']\n",
        "X2 = sm.add_constant(X)\n",
        "est = sm.OLS(Y, X2)\n",
        "est2 = est.fit()\n",
        "print(est2.summary())"
      ],
      "execution_count": null,
      "outputs": [
        {
          "output_type": "stream",
          "text": [
            "                            OLS Regression Results                            \n",
            "==============================================================================\n",
            "Dep. Variable:                  sales   R-squared:                       0.897\n",
            "Model:                            OLS   Adj. R-squared:                  0.896\n",
            "Method:                 Least Squares   F-statistic:                     570.3\n",
            "Date:                Fri, 23 Oct 2020   Prob (F-statistic):           1.58e-96\n",
            "Time:                        10:52:26   Log-Likelihood:                -386.18\n",
            "No. Observations:                 200   AIC:                             780.4\n",
            "Df Residuals:                     196   BIC:                             793.6\n",
            "Df Model:                           3                                         \n",
            "Covariance Type:            nonrobust                                         \n",
            "==============================================================================\n",
            "                 coef    std err          t      P>|t|      [0.025      0.975]\n",
            "------------------------------------------------------------------------------\n",
            "const          2.9389      0.312      9.422      0.000       2.324       3.554\n",
            "x1             0.0458      0.001     32.809      0.000       0.043       0.049\n",
            "x2             0.1885      0.009     21.893      0.000       0.172       0.206\n",
            "x3            -0.0010      0.006     -0.177      0.860      -0.013       0.011\n",
            "==============================================================================\n",
            "Omnibus:                       60.414   Durbin-Watson:                   2.084\n",
            "Prob(Omnibus):                  0.000   Jarque-Bera (JB):              151.241\n",
            "Skew:                          -1.327   Prob(JB):                     1.44e-33\n",
            "Kurtosis:                       6.332   Cond. No.                         454.\n",
            "==============================================================================\n",
            "\n",
            "Warnings:\n",
            "[1] Standard Errors assume that the covariance matrix of the errors is correctly specified.\n"
          ],
          "name": "stdout"
        }
      ]
    },
    {
      "cell_type": "markdown",
      "metadata": {
        "id": "Q11fOtFYU3fs"
      },
      "source": [
        "As we can see, the R² is quite close to 1, with a value of 0.897! Next, the value of F-static is 570.3 is far greater than 1, although our data set is quite small (only 200 data points), it shows that there is a strong relationship between ad spend and sales. Finally, since we only have three predictors, we can consider their p-values to determine whether they are relevant to the model or not. Of course, we notice that the third coefficient (that of the newspaper) has a large p-value. Therefore, newspaper ad spending is **not statistically significant**. **Removing this predictor would slightly reduce the R² value, but we could make better predictions.**"
      ]
    }
  ]
}