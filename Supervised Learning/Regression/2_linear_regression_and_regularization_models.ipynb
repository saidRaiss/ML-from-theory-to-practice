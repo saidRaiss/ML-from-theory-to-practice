{
  "nbformat": 4,
  "nbformat_minor": 0,
  "metadata": {
    "kernelspec": {
      "language": "python",
      "display_name": "Python 3",
      "name": "python3"
    },
    "language_info": {
      "pygments_lexer": "ipython3",
      "nbconvert_exporter": "python",
      "version": "3.6.4",
      "file_extension": ".py",
      "codemirror_mode": {
        "name": "ipython",
        "version": 3
      },
      "name": "python",
      "mimetype": "text/x-python"
    },
    "colab": {
      "name": "linear-regression-and-regularization-models.ipynb",
      "provenance": []
    }
  },
  "cells": [
    {
      "cell_type": "markdown",
      "metadata": {
        "id": "WGbpyxcFff5g"
      },
      "source": [
        "Hi! In this notebook we will compare the linear regression to many regularization models as Ridge regression, Lasso, Elastic-Net, and others. If you not yet try a linear regression I advice you to look [this](https://www.kaggle.com/raisssaid/supervised-learning-linear-regression-advertising)."
      ]
    },
    {
      "cell_type": "markdown",
      "metadata": {
        "id": "EAPp2xwZGCfr"
      },
      "source": [
        "### Import libraries\n",
        "\n"
      ]
    },
    {
      "cell_type": "code",
      "metadata": {
        "id": "5mhXZV_yk8mb",
        "trusted": true,
        "outputId": "150228a7-8653-4590-9e36-bf6b0480a4fd",
        "colab": {
          "base_uri": "https://localhost:8080/",
          "height": 71
        }
      },
      "source": [
        "import pandas as pd\n",
        "import numpy as np\n",
        "import matplotlib.pyplot as plt\n",
        "\n",
        "import seaborn as sns\n",
        "import statsmodels.api as sm\n",
        "\n",
        "from sklearn.model_selection import train_test_split\n",
        "from sklearn.model_selection import cross_val_score\n",
        "from sklearn.model_selection import GridSearchCV\n",
        "from sklearn import metrics\n",
        "\n",
        "from sklearn.linear_model import LinearRegression, Ridge, Lasso, ElasticNet\n",
        "%matplotlib inline"
      ],
      "execution_count": 1,
      "outputs": [
        {
          "output_type": "stream",
          "text": [
            "/usr/local/lib/python3.6/dist-packages/statsmodels/tools/_testing.py:19: FutureWarning: pandas.util.testing is deprecated. Use the functions in the public API at pandas.testing instead.\n",
            "  import pandas.util.testing as tm\n"
          ],
          "name": "stderr"
        }
      ]
    },
    {
      "cell_type": "markdown",
      "metadata": {
        "id": "808YCt5EGVDK"
      },
      "source": [
        "### Dataset"
      ]
    },
    {
      "cell_type": "code",
      "metadata": {
        "id": "86_pPmKPny3r",
        "trusted": true
      },
      "source": [
        "data = pd.read_csv(\n",
        "    'https://raw.githubusercontent.com/saidRaiss/dataset/master/advertising_ads'\n",
        ")"
      ],
      "execution_count": 2,
      "outputs": []
    },
    {
      "cell_type": "code",
      "metadata": {
        "trusted": true,
        "id": "lpNZsVBUff6W",
        "outputId": "4f834dc7-36e9-4dd9-a45a-36f5059db601",
        "colab": {
          "base_uri": "https://localhost:8080/",
          "height": 204
        }
      },
      "source": [
        "data.head()"
      ],
      "execution_count": 3,
      "outputs": [
        {
          "output_type": "execute_result",
          "data": {
            "text/html": [
              "<div>\n",
              "<style scoped>\n",
              "    .dataframe tbody tr th:only-of-type {\n",
              "        vertical-align: middle;\n",
              "    }\n",
              "\n",
              "    .dataframe tbody tr th {\n",
              "        vertical-align: top;\n",
              "    }\n",
              "\n",
              "    .dataframe thead th {\n",
              "        text-align: right;\n",
              "    }\n",
              "</style>\n",
              "<table border=\"1\" class=\"dataframe\">\n",
              "  <thead>\n",
              "    <tr style=\"text-align: right;\">\n",
              "      <th></th>\n",
              "      <th>Unnamed: 0</th>\n",
              "      <th>TV</th>\n",
              "      <th>radio</th>\n",
              "      <th>newspaper</th>\n",
              "      <th>sales</th>\n",
              "    </tr>\n",
              "  </thead>\n",
              "  <tbody>\n",
              "    <tr>\n",
              "      <th>0</th>\n",
              "      <td>1</td>\n",
              "      <td>230.1</td>\n",
              "      <td>37.8</td>\n",
              "      <td>69.2</td>\n",
              "      <td>22.1</td>\n",
              "    </tr>\n",
              "    <tr>\n",
              "      <th>1</th>\n",
              "      <td>2</td>\n",
              "      <td>44.5</td>\n",
              "      <td>39.3</td>\n",
              "      <td>45.1</td>\n",
              "      <td>10.4</td>\n",
              "    </tr>\n",
              "    <tr>\n",
              "      <th>2</th>\n",
              "      <td>3</td>\n",
              "      <td>17.2</td>\n",
              "      <td>45.9</td>\n",
              "      <td>69.3</td>\n",
              "      <td>9.3</td>\n",
              "    </tr>\n",
              "    <tr>\n",
              "      <th>3</th>\n",
              "      <td>4</td>\n",
              "      <td>151.5</td>\n",
              "      <td>41.3</td>\n",
              "      <td>58.5</td>\n",
              "      <td>18.5</td>\n",
              "    </tr>\n",
              "    <tr>\n",
              "      <th>4</th>\n",
              "      <td>5</td>\n",
              "      <td>180.8</td>\n",
              "      <td>10.8</td>\n",
              "      <td>58.4</td>\n",
              "      <td>12.9</td>\n",
              "    </tr>\n",
              "  </tbody>\n",
              "</table>\n",
              "</div>"
            ],
            "text/plain": [
              "   Unnamed: 0     TV  radio  newspaper  sales\n",
              "0           1  230.1   37.8       69.2   22.1\n",
              "1           2   44.5   39.3       45.1   10.4\n",
              "2           3   17.2   45.9       69.3    9.3\n",
              "3           4  151.5   41.3       58.5   18.5\n",
              "4           5  180.8   10.8       58.4   12.9"
            ]
          },
          "metadata": {
            "tags": []
          },
          "execution_count": 3
        }
      ]
    },
    {
      "cell_type": "code",
      "metadata": {
        "id": "ddt5TXDgoBRi",
        "trusted": true
      },
      "source": [
        "data.drop(['Unnamed: 0'], axis=1, inplace=True)"
      ],
      "execution_count": 4,
      "outputs": []
    },
    {
      "cell_type": "code",
      "metadata": {
        "id": "kdeakr7yo31P",
        "trusted": true
      },
      "source": [
        "X = data.drop(['sales', 'newspaper'], axis=1)\n",
        "Y = data['sales'].values.reshape(-1,1)"
      ],
      "execution_count": 6,
      "outputs": []
    },
    {
      "cell_type": "code",
      "metadata": {
        "id": "U89rIX5ZH2HI",
        "trusted": true,
        "outputId": "2e92baea-71c9-4dec-b1ea-597bd9a9656c",
        "colab": {
          "base_uri": "https://localhost:8080/",
          "height": 459
        }
      },
      "source": [
        "X2 = sm.add_constant(X)\n",
        "est = sm.OLS(Y, X2)\n",
        "est2 = est.fit()\n",
        "print(est2.summary())"
      ],
      "execution_count": 7,
      "outputs": [
        {
          "output_type": "stream",
          "text": [
            "                            OLS Regression Results                            \n",
            "==============================================================================\n",
            "Dep. Variable:                      y   R-squared:                       0.897\n",
            "Model:                            OLS   Adj. R-squared:                  0.896\n",
            "Method:                 Least Squares   F-statistic:                     859.6\n",
            "Date:                Tue, 27 Oct 2020   Prob (F-statistic):           4.83e-98\n",
            "Time:                        19:24:42   Log-Likelihood:                -386.20\n",
            "No. Observations:                 200   AIC:                             778.4\n",
            "Df Residuals:                     197   BIC:                             788.3\n",
            "Df Model:                           2                                         \n",
            "Covariance Type:            nonrobust                                         \n",
            "==============================================================================\n",
            "                 coef    std err          t      P>|t|      [0.025      0.975]\n",
            "------------------------------------------------------------------------------\n",
            "const          2.9211      0.294      9.919      0.000       2.340       3.502\n",
            "TV             0.0458      0.001     32.909      0.000       0.043       0.048\n",
            "radio          0.1880      0.008     23.382      0.000       0.172       0.204\n",
            "==============================================================================\n",
            "Omnibus:                       60.022   Durbin-Watson:                   2.081\n",
            "Prob(Omnibus):                  0.000   Jarque-Bera (JB):              148.679\n",
            "Skew:                          -1.323   Prob(JB):                     5.19e-33\n",
            "Kurtosis:                       6.292   Cond. No.                         425.\n",
            "==============================================================================\n",
            "\n",
            "Warnings:\n",
            "[1] Standard Errors assume that the covariance matrix of the errors is correctly specified.\n"
          ],
          "name": "stdout"
        }
      ]
    },
    {
      "cell_type": "markdown",
      "metadata": {
        "id": "wf3zxBDiIjV_"
      },
      "source": [
        "### Dataset splitting Train / Test"
      ]
    },
    {
      "cell_type": "code",
      "metadata": {
        "id": "Lc6SjtaJpVTq",
        "trusted": true
      },
      "source": [
        "X_train, X_test, Y_train, Y_test = train_test_split(\n",
        "    X, Y, test_size=0.25, random_state=42\n",
        "    )"
      ],
      "execution_count": 8,
      "outputs": []
    },
    {
      "cell_type": "markdown",
      "metadata": {
        "id": "RLoVy9v8Il1A"
      },
      "source": [
        "### Useful functions"
      ]
    },
    {
      "cell_type": "code",
      "metadata": {
        "id": "pcrk_nFbRxOU",
        "trusted": true
      },
      "source": [
        "def print_evaluate(y_test, predicted):  \n",
        "    mae = metrics.mean_absolute_error(y_test, predicted)\n",
        "    mse = metrics.mean_squared_error(y_test, predicted)\n",
        "    r2_square = metrics.r2_score(y_test, predicted)\n",
        "    print('MAE:', mae)\n",
        "    print('MSE:', mse)\n",
        "    print('R2 Square', r2_square)\n",
        "def cross_val(model, X = X, Y = Y, cv=10):\n",
        "    MSE = cross_val_score(model, X, Y, scoring='neg_mean_squared_error', cv=cv)\n",
        "    return print(-np.mean(MSE))"
      ],
      "execution_count": 9,
      "outputs": []
    },
    {
      "cell_type": "markdown",
      "metadata": {
        "id": "-0uLtAzEff8T"
      },
      "source": [
        "### Create models"
      ]
    },
    {
      "cell_type": "code",
      "metadata": {
        "id": "QIHH2LgjprIV",
        "trusted": true
      },
      "source": [
        "# Linear Regression\n",
        "linear_reg = LinearRegression()\n",
        "# Ridge Regression\n",
        "ridge = Ridge()\n",
        "# Lasso\n",
        "lasso = Lasso(tol=1e4)\n",
        "# Elastic Net\n",
        "elastic_net = ElasticNet()"
      ],
      "execution_count": 10,
      "outputs": []
    },
    {
      "cell_type": "markdown",
      "metadata": {
        "id": "WEuPZjUOJUE9"
      },
      "source": [
        "### Linear Regression"
      ]
    },
    {
      "cell_type": "code",
      "metadata": {
        "id": "-AxHwZgbJFpc",
        "trusted": true,
        "outputId": "bac9ea71-a1a3-42a3-aedb-2b013e975ad9",
        "colab": {
          "base_uri": "https://localhost:8080/",
          "height": 68
        }
      },
      "source": [
        "linear_reg.fit(X_train, Y_train)\n",
        "linear_reg_pred = linear_reg.predict(X_test)\n",
        "print_evaluate(Y_test, linear_reg_pred)"
      ],
      "execution_count": 11,
      "outputs": [
        {
          "output_type": "stream",
          "text": [
            "MAE: 1.3886802126434374\n",
            "MSE: 2.8539947557761023\n",
            "R2 Square 0.8944787062601195\n"
          ],
          "name": "stdout"
        }
      ]
    },
    {
      "cell_type": "code",
      "metadata": {
        "id": "6lLxrtUTuHm4",
        "trusted": true
      },
      "source": [
        "results = pd.DataFrame(\n",
        "    data = [\n",
        "            [\"Linear Regression\",\n",
        "             metrics.mean_squared_error(Y_test, linear_reg_pred),\n",
        "             metrics.r2_score(Y_test, linear_reg_pred)\n",
        "             ]\n",
        "            ],\n",
        "            columns=['Model', 'Mean Squared Error', 'R2 Square'])"
      ],
      "execution_count": 12,
      "outputs": []
    },
    {
      "cell_type": "markdown",
      "metadata": {
        "id": "Kk40iopetLrR"
      },
      "source": [
        "### Ridge Regression"
      ]
    },
    {
      "cell_type": "code",
      "metadata": {
        "id": "x_7KfHHytTv7",
        "trusted": true,
        "outputId": "5e5a901b-c3a6-4f98-c048-1bce92ff65c2",
        "colab": {
          "base_uri": "https://localhost:8080/",
          "height": 68
        }
      },
      "source": [
        "parameters = {'alpha':[1e-15, 1e-10, 1e-8, 1e-4, 1e-3, 1e-2, 1, 5, 10, 20]}\n",
        "ridgeCV = GridSearchCV(\n",
        "    ridge, parameters, scoring='neg_mean_squared_error', cv=5\n",
        "    )\n",
        "ridgeCV.fit(X_train, Y_train)\n",
        "ridgeCV_pred = ridgeCV.predict(X_test)\n",
        "print_evaluate(Y_test, ridgeCV_pred)"
      ],
      "execution_count": 13,
      "outputs": [
        {
          "output_type": "stream",
          "text": [
            "MAE: 1.388680212643438\n",
            "MSE: 2.853994755776102\n",
            "R2 Square 0.8944787062601195\n"
          ],
          "name": "stdout"
        }
      ]
    },
    {
      "cell_type": "code",
      "metadata": {
        "id": "3vUXmN3Eud-Y",
        "trusted": true
      },
      "source": [
        "ridge_result = pd.DataFrame(\n",
        "    data = [\n",
        "            [\"Ridge Regression\",\n",
        "             metrics.mean_squared_error(Y_test, ridgeCV_pred),\n",
        "             metrics.r2_score(Y_test, ridgeCV_pred)\n",
        "             ]\n",
        "            ],\n",
        "            columns=['Model', 'Mean Squared Error', 'R2 Square'])\n",
        "results = results.append(ridge_result, ignore_index=True)"
      ],
      "execution_count": 14,
      "outputs": []
    },
    {
      "cell_type": "markdown",
      "metadata": {
        "id": "02yEbuDNKDSu"
      },
      "source": [
        "### Lasso"
      ]
    },
    {
      "cell_type": "code",
      "metadata": {
        "id": "yCaaohPorZwc",
        "trusted": true,
        "outputId": "417f17aa-0b3e-40a1-8061-3f188e6b5124",
        "colab": {
          "base_uri": "https://localhost:8080/",
          "height": 68
        }
      },
      "source": [
        "parameters =  {'alpha':[1e-15, 1e-10, 1e-8, 1e-4, 1e-3, 1e-2, 1, 5, 10, 20]}\n",
        "lassoCV = GridSearchCV(\n",
        "    lasso, parameters, scoring='neg_mean_squared_error', cv=5,\n",
        "    )\n",
        "lassoCV.fit(X_train, Y_train)\n",
        "lassoCV_pred = lassoCV.predict(X_test)\n",
        "print_evaluate(Y_test, lassoCV_pred)"
      ],
      "execution_count": 15,
      "outputs": [
        {
          "output_type": "stream",
          "text": [
            "MAE: 1.404140944428173\n",
            "MSE: 2.846272038922038\n",
            "R2 Square 0.8947642397468151\n"
          ],
          "name": "stdout"
        }
      ]
    },
    {
      "cell_type": "code",
      "metadata": {
        "id": "4PBHp_Q3u-NP",
        "trusted": true
      },
      "source": [
        "lasso_result = pd.DataFrame(\n",
        "    data = [\n",
        "            [\"Lasso\",\n",
        "             metrics.mean_squared_error(Y_test, lassoCV_pred),\n",
        "             metrics.r2_score(Y_test, lassoCV_pred)\n",
        "             ]\n",
        "            ],\n",
        "            columns=['Model', 'Mean Squared Error', 'R2 Square'])\n",
        "results = results.append(lasso_result, ignore_index=True)"
      ],
      "execution_count": 16,
      "outputs": []
    },
    {
      "cell_type": "markdown",
      "metadata": {
        "id": "8xxRLKBeLLPi"
      },
      "source": [
        "### Elastic Net"
      ]
    },
    {
      "cell_type": "code",
      "metadata": {
        "id": "BfiYc5jTdzxP",
        "trusted": true,
        "outputId": "3bc62f6d-b308-4bf6-ad5c-4d158b9d10ee",
        "colab": {
          "base_uri": "https://localhost:8080/",
          "height": 68
        }
      },
      "source": [
        "elastic_net_default = ElasticNet()\n",
        "elastic_net_default.fit(X_train, Y_train)\n",
        "elastic_net_default_pred = elastic_net_default.predict(X_test)\n",
        "print_evaluate(Y_test, elastic_net_default_pred)"
      ],
      "execution_count": 17,
      "outputs": [
        {
          "output_type": "stream",
          "text": [
            "MAE: 1.3836556179143498\n",
            "MSE: 2.833966680898318\n",
            "R2 Square 0.8952192081015983\n"
          ],
          "name": "stdout"
        }
      ]
    },
    {
      "cell_type": "code",
      "metadata": {
        "id": "XJE_WFtvvLau",
        "trusted": true
      },
      "source": [
        "elastic_net_default_result = pd.DataFrame(\n",
        "    data = [\n",
        "            [\"Elastic Net (alpha=1)\",\n",
        "             metrics.mean_squared_error(Y_test, elastic_net_default_pred),\n",
        "             metrics.r2_score(Y_test, elastic_net_default_pred)\n",
        "             ]\n",
        "            ],\n",
        "            columns=['Model', 'Mean Squared Error', 'R2 Square'])\n",
        "results = results.append(elastic_net_default_result, ignore_index=True)"
      ],
      "execution_count": 18,
      "outputs": []
    },
    {
      "cell_type": "code",
      "metadata": {
        "id": "-Fxgpt6HZcB5",
        "trusted": true,
        "outputId": "30c420d6-9192-4485-938c-42dd49167003",
        "colab": {
          "base_uri": "https://localhost:8080/",
          "height": 68
        }
      },
      "source": [
        "elastic_net = ElasticNet(alpha = 10.5)\n",
        "elastic_net.fit(X_train, Y_train)\n",
        "elastic_net_pred = elastic_net.predict(X_test)\n",
        "print_evaluate(Y_test, elastic_net_pred)"
      ],
      "execution_count": 19,
      "outputs": [
        {
          "output_type": "stream",
          "text": [
            "MAE: 1.3594171680347327\n",
            "MSE: 2.80175986836401\n",
            "R2 Square 0.8964099967388163\n"
          ],
          "name": "stdout"
        }
      ]
    },
    {
      "cell_type": "code",
      "metadata": {
        "id": "deqDrVvTwA6p",
        "trusted": true
      },
      "source": [
        "elastic_net_result = pd.DataFrame(\n",
        "    data = [\n",
        "            [\"Elastic Net (alpha=10.5)\",\n",
        "             metrics.mean_squared_error(Y_test, elastic_net_pred),\n",
        "             metrics.r2_score(Y_test, elastic_net_pred)\n",
        "             ]\n",
        "            ],\n",
        "            columns=['Model', 'Mean Squared Error', 'R2 Square'])\n",
        "results = results.append(elastic_net_result, ignore_index=True)"
      ],
      "execution_count": 20,
      "outputs": []
    },
    {
      "cell_type": "markdown",
      "metadata": {
        "id": "X74ug8P2a0D4"
      },
      "source": [
        "### Robust"
      ]
    },
    {
      "cell_type": "code",
      "metadata": {
        "id": "0o_oWxSObLrC",
        "trusted": true
      },
      "source": [
        "from sklearn.linear_model import RANSACRegressor\n",
        "from sklearn.preprocessing import PolynomialFeatures"
      ],
      "execution_count": 21,
      "outputs": []
    },
    {
      "cell_type": "code",
      "metadata": {
        "id": "gxksT-fWayqQ",
        "trusted": true,
        "outputId": "9e193c82-0cea-4629-f619-6d0af673d212",
        "colab": {
          "base_uri": "https://localhost:8080/",
          "height": 68
        }
      },
      "source": [
        "ransac = RANSACRegressor()\n",
        "ransac.fit(X_train, Y_train)\n",
        "ransac_pred = ransac.predict(X_test)\n",
        "print_evaluate(Y_test, ransac_pred)"
      ],
      "execution_count": 22,
      "outputs": [
        {
          "output_type": "stream",
          "text": [
            "MAE: 1.3720288245727554\n",
            "MSE: 2.975007500550747\n",
            "R2 Square 0.8900044789120171\n"
          ],
          "name": "stdout"
        }
      ]
    },
    {
      "cell_type": "code",
      "metadata": {
        "id": "om5ahJmowofp",
        "trusted": true
      },
      "source": [
        "ransac_result = pd.DataFrame(\n",
        "    data = [\n",
        "            [\"Robust RANSAC Regressor\",\n",
        "             metrics.mean_squared_error(Y_test, ransac_pred),\n",
        "             metrics.r2_score(Y_test, ransac_pred)\n",
        "             ]\n",
        "            ],\n",
        "            columns=['Model', 'Mean Squared Error', 'R2 Square'])\n",
        "results = results.append(ransac_result, ignore_index=True)"
      ],
      "execution_count": 23,
      "outputs": []
    },
    {
      "cell_type": "markdown",
      "metadata": {
        "id": "FzGU79DCfCNw"
      },
      "source": [
        "### Polynomial Features"
      ]
    },
    {
      "cell_type": "code",
      "metadata": {
        "id": "ItzMWrN0fGog",
        "trusted": true,
        "outputId": "60079e0e-755c-4a9a-ae1c-a93d5cbc71cc",
        "colab": {
          "base_uri": "https://localhost:8080/",
          "height": 68
        }
      },
      "source": [
        "poly_reg = PolynomialFeatures(degree=3)\n",
        "X_poly = poly_reg.fit_transform(X)\n",
        "\n",
        "X_poly_train, X_poly_test, y_poly_train, y_poly_test = train_test_split(\n",
        "    X_poly, Y, test_size=0.25, random_state=42\n",
        "    )\n",
        "\n",
        "lin_reg_poly = LinearRegression()\n",
        "\n",
        "lin_reg_poly.fit(X_poly_train,y_poly_train)\n",
        "poly_pred = lin_reg_poly.predict(poly_reg.transform(X_test))\n",
        "print_evaluate(Y_test, poly_pred)"
      ],
      "execution_count": 24,
      "outputs": [
        {
          "output_type": "stream",
          "text": [
            "MAE: 0.31296787989676117\n",
            "MSE: 0.16079594134558928\n",
            "R2 Square 0.994054860919219\n"
          ],
          "name": "stdout"
        }
      ]
    },
    {
      "cell_type": "code",
      "metadata": {
        "id": "jH3RRXGVxAR3",
        "trusted": true
      },
      "source": [
        "poly_result = pd.DataFrame(\n",
        "    data = [\n",
        "            [\"Linear Regression using Polynomial Features\",\n",
        "             metrics.mean_squared_error(Y_test, poly_pred),\n",
        "             metrics.r2_score(Y_test, poly_pred)\n",
        "             ]\n",
        "            ],\n",
        "            columns=['Model', 'Mean Squared Error', 'R2 Square'])\n",
        "results = results.append(poly_result, ignore_index=True)"
      ],
      "execution_count": 25,
      "outputs": []
    },
    {
      "cell_type": "markdown",
      "metadata": {
        "id": "e6f4ERqixawy"
      },
      "source": [
        "### Conclusion"
      ]
    },
    {
      "cell_type": "code",
      "metadata": {
        "id": "kA27uV8ExZ3Q",
        "trusted": true,
        "outputId": "222a9e5f-8e60-4ab8-e18e-8913fbe73544",
        "colab": {
          "base_uri": "https://localhost:8080/",
          "height": 266
        }
      },
      "source": [
        "results.sort_values(by=['Mean Squared Error', 'R2 Square'])"
      ],
      "execution_count": 26,
      "outputs": [
        {
          "output_type": "execute_result",
          "data": {
            "text/html": [
              "<div>\n",
              "<style scoped>\n",
              "    .dataframe tbody tr th:only-of-type {\n",
              "        vertical-align: middle;\n",
              "    }\n",
              "\n",
              "    .dataframe tbody tr th {\n",
              "        vertical-align: top;\n",
              "    }\n",
              "\n",
              "    .dataframe thead th {\n",
              "        text-align: right;\n",
              "    }\n",
              "</style>\n",
              "<table border=\"1\" class=\"dataframe\">\n",
              "  <thead>\n",
              "    <tr style=\"text-align: right;\">\n",
              "      <th></th>\n",
              "      <th>Model</th>\n",
              "      <th>Mean Squared Error</th>\n",
              "      <th>R2 Square</th>\n",
              "    </tr>\n",
              "  </thead>\n",
              "  <tbody>\n",
              "    <tr>\n",
              "      <th>6</th>\n",
              "      <td>Linear Regression using Polynomial Features</td>\n",
              "      <td>0.160796</td>\n",
              "      <td>0.994055</td>\n",
              "    </tr>\n",
              "    <tr>\n",
              "      <th>4</th>\n",
              "      <td>Elastic Net (alpha=10.5)</td>\n",
              "      <td>2.801760</td>\n",
              "      <td>0.896410</td>\n",
              "    </tr>\n",
              "    <tr>\n",
              "      <th>3</th>\n",
              "      <td>Elastic Net (alpha=1)</td>\n",
              "      <td>2.833967</td>\n",
              "      <td>0.895219</td>\n",
              "    </tr>\n",
              "    <tr>\n",
              "      <th>2</th>\n",
              "      <td>Lasso</td>\n",
              "      <td>2.846272</td>\n",
              "      <td>0.894764</td>\n",
              "    </tr>\n",
              "    <tr>\n",
              "      <th>1</th>\n",
              "      <td>Ridge Regression</td>\n",
              "      <td>2.853995</td>\n",
              "      <td>0.894479</td>\n",
              "    </tr>\n",
              "    <tr>\n",
              "      <th>0</th>\n",
              "      <td>Linear Regression</td>\n",
              "      <td>2.853995</td>\n",
              "      <td>0.894479</td>\n",
              "    </tr>\n",
              "    <tr>\n",
              "      <th>5</th>\n",
              "      <td>Robust RANSAC Regressor</td>\n",
              "      <td>2.975008</td>\n",
              "      <td>0.890004</td>\n",
              "    </tr>\n",
              "  </tbody>\n",
              "</table>\n",
              "</div>"
            ],
            "text/plain": [
              "                                         Model  Mean Squared Error  R2 Square\n",
              "6  Linear Regression using Polynomial Features            0.160796   0.994055\n",
              "4                     Elastic Net (alpha=10.5)            2.801760   0.896410\n",
              "3                        Elastic Net (alpha=1)            2.833967   0.895219\n",
              "2                                        Lasso            2.846272   0.894764\n",
              "1                             Ridge Regression            2.853995   0.894479\n",
              "0                            Linear Regression            2.853995   0.894479\n",
              "5                      Robust RANSAC Regressor            2.975008   0.890004"
            ]
          },
          "metadata": {
            "tags": []
          },
          "execution_count": 26
        }
      ]
    }
  ]
}