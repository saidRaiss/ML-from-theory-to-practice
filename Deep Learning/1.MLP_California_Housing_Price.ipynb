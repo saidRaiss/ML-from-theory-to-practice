{
  "nbformat": 4,
  "nbformat_minor": 0,
  "metadata": {
    "colab": {
      "name": "Sequence_API_Regression.ipynb",
      "provenance": [],
      "collapsed_sections": []
    },
    "kernelspec": {
      "name": "python3",
      "display_name": "Python 3"
    }
  },
  "cells": [
    {
      "cell_type": "markdown",
      "metadata": {
        "id": "3Ox0HdBqClAF"
      },
      "source": [
        "Construire un MLP pour résoudre un problème de régression"
      ]
    },
    {
      "cell_type": "code",
      "metadata": {
        "id": "O0jp0jU2CYBO"
      },
      "source": [
        "import numpy as np\n",
        "import pandas as pd\n",
        "import matplotlib.pyplot as plt\n",
        "import tensorflow as tf\n",
        "from tensorflow import keras\n",
        "from sklearn.datasets import fetch_california_housing\n",
        "from sklearn.model_selection import train_test_split\n",
        "from sklearn.preprocessing import StandardScaler"
      ],
      "execution_count": 1,
      "outputs": []
    },
    {
      "cell_type": "code",
      "metadata": {
        "id": "KBBFaRmxDFFn"
      },
      "source": [
        "housing = fetch_california_housing()"
      ],
      "execution_count": 2,
      "outputs": []
    },
    {
      "cell_type": "code",
      "metadata": {
        "id": "4Rh1GUVi3gPp",
        "outputId": "0ebbbddd-4e18-40ba-d6e8-68b5310b80d8",
        "colab": {
          "base_uri": "https://localhost:8080/"
        }
      },
      "source": [
        "data = pd.DataFrame(\n",
        "    np.concatenate((housing.data, np.array([housing.target]).T), axis=1),\n",
        "    columns=housing.feature_names + ['Price']\n",
        ")\n",
        "data.info()"
      ],
      "execution_count": 3,
      "outputs": [
        {
          "output_type": "stream",
          "text": [
            "<class 'pandas.core.frame.DataFrame'>\n",
            "RangeIndex: 20640 entries, 0 to 20639\n",
            "Data columns (total 9 columns):\n",
            " #   Column      Non-Null Count  Dtype  \n",
            "---  ------      --------------  -----  \n",
            " 0   MedInc      20640 non-null  float64\n",
            " 1   HouseAge    20640 non-null  float64\n",
            " 2   AveRooms    20640 non-null  float64\n",
            " 3   AveBedrms   20640 non-null  float64\n",
            " 4   Population  20640 non-null  float64\n",
            " 5   AveOccup    20640 non-null  float64\n",
            " 6   Latitude    20640 non-null  float64\n",
            " 7   Longitude   20640 non-null  float64\n",
            " 8   Price       20640 non-null  float64\n",
            "dtypes: float64(9)\n",
            "memory usage: 1.4 MB\n"
          ],
          "name": "stdout"
        }
      ]
    },
    {
      "cell_type": "code",
      "metadata": {
        "id": "3sv6OANBLppF",
        "outputId": "da320adf-25ff-4045-c981-47cc3efbc59e",
        "colab": {
          "base_uri": "https://localhost:8080/",
          "height": 204
        }
      },
      "source": [
        "data.head()"
      ],
      "execution_count": 4,
      "outputs": [
        {
          "output_type": "execute_result",
          "data": {
            "text/html": [
              "<div>\n",
              "<style scoped>\n",
              "    .dataframe tbody tr th:only-of-type {\n",
              "        vertical-align: middle;\n",
              "    }\n",
              "\n",
              "    .dataframe tbody tr th {\n",
              "        vertical-align: top;\n",
              "    }\n",
              "\n",
              "    .dataframe thead th {\n",
              "        text-align: right;\n",
              "    }\n",
              "</style>\n",
              "<table border=\"1\" class=\"dataframe\">\n",
              "  <thead>\n",
              "    <tr style=\"text-align: right;\">\n",
              "      <th></th>\n",
              "      <th>MedInc</th>\n",
              "      <th>HouseAge</th>\n",
              "      <th>AveRooms</th>\n",
              "      <th>AveBedrms</th>\n",
              "      <th>Population</th>\n",
              "      <th>AveOccup</th>\n",
              "      <th>Latitude</th>\n",
              "      <th>Longitude</th>\n",
              "      <th>Price</th>\n",
              "    </tr>\n",
              "  </thead>\n",
              "  <tbody>\n",
              "    <tr>\n",
              "      <th>0</th>\n",
              "      <td>8.3252</td>\n",
              "      <td>41.0</td>\n",
              "      <td>6.984127</td>\n",
              "      <td>1.023810</td>\n",
              "      <td>322.0</td>\n",
              "      <td>2.555556</td>\n",
              "      <td>37.88</td>\n",
              "      <td>-122.23</td>\n",
              "      <td>4.526</td>\n",
              "    </tr>\n",
              "    <tr>\n",
              "      <th>1</th>\n",
              "      <td>8.3014</td>\n",
              "      <td>21.0</td>\n",
              "      <td>6.238137</td>\n",
              "      <td>0.971880</td>\n",
              "      <td>2401.0</td>\n",
              "      <td>2.109842</td>\n",
              "      <td>37.86</td>\n",
              "      <td>-122.22</td>\n",
              "      <td>3.585</td>\n",
              "    </tr>\n",
              "    <tr>\n",
              "      <th>2</th>\n",
              "      <td>7.2574</td>\n",
              "      <td>52.0</td>\n",
              "      <td>8.288136</td>\n",
              "      <td>1.073446</td>\n",
              "      <td>496.0</td>\n",
              "      <td>2.802260</td>\n",
              "      <td>37.85</td>\n",
              "      <td>-122.24</td>\n",
              "      <td>3.521</td>\n",
              "    </tr>\n",
              "    <tr>\n",
              "      <th>3</th>\n",
              "      <td>5.6431</td>\n",
              "      <td>52.0</td>\n",
              "      <td>5.817352</td>\n",
              "      <td>1.073059</td>\n",
              "      <td>558.0</td>\n",
              "      <td>2.547945</td>\n",
              "      <td>37.85</td>\n",
              "      <td>-122.25</td>\n",
              "      <td>3.413</td>\n",
              "    </tr>\n",
              "    <tr>\n",
              "      <th>4</th>\n",
              "      <td>3.8462</td>\n",
              "      <td>52.0</td>\n",
              "      <td>6.281853</td>\n",
              "      <td>1.081081</td>\n",
              "      <td>565.0</td>\n",
              "      <td>2.181467</td>\n",
              "      <td>37.85</td>\n",
              "      <td>-122.25</td>\n",
              "      <td>3.422</td>\n",
              "    </tr>\n",
              "  </tbody>\n",
              "</table>\n",
              "</div>"
            ],
            "text/plain": [
              "   MedInc  HouseAge  AveRooms  AveBedrms  ...  AveOccup  Latitude  Longitude  Price\n",
              "0  8.3252      41.0  6.984127   1.023810  ...  2.555556     37.88    -122.23  4.526\n",
              "1  8.3014      21.0  6.238137   0.971880  ...  2.109842     37.86    -122.22  3.585\n",
              "2  7.2574      52.0  8.288136   1.073446  ...  2.802260     37.85    -122.24  3.521\n",
              "3  5.6431      52.0  5.817352   1.073059  ...  2.547945     37.85    -122.25  3.413\n",
              "4  3.8462      52.0  6.281853   1.081081  ...  2.181467     37.85    -122.25  3.422\n",
              "\n",
              "[5 rows x 9 columns]"
            ]
          },
          "metadata": {
            "tags": []
          },
          "execution_count": 4
        }
      ]
    },
    {
      "cell_type": "code",
      "metadata": {
        "id": "PkK-Z-DnDLFj"
      },
      "source": [
        "X_train, X_test, y_train, y_test = train_test_split(\n",
        "    housing.data, housing.target\n",
        ")\n",
        "# Standardisation\n",
        "scaler = StandardScaler()\n",
        "X_train = scaler.fit_transform(X_train)\n",
        "X_test = scaler.transform(X_test)"
      ],
      "execution_count": 5,
      "outputs": []
    },
    {
      "cell_type": "code",
      "metadata": {
        "id": "Zzq95DOxEXb7"
      },
      "source": [
        "model = keras.models.Sequential([\n",
        "      keras.layers.Dense(\n",
        "          8, activation=\"relu\",\n",
        "          input_shape = X_train.shape[1:]\n",
        "      ),\n",
        "      keras.layers.Dense(\n",
        "          16, activation=\"sigmoid\"\n",
        "      ),\n",
        "      keras.layers.Dense(\n",
        "          8, activation=\"relu\"\n",
        "      ),\n",
        "      keras.layers.Dense(1)\n",
        "\n",
        "])\n",
        "model.compile(\n",
        "    loss=\"mean_squared_error\", optimizer=\"rmsprop\"\n",
        ")"
      ],
      "execution_count": 6,
      "outputs": []
    },
    {
      "cell_type": "code",
      "metadata": {
        "id": "gxWL5disPFht",
        "outputId": "461689dd-6455-4511-8593-c91479d72f18",
        "colab": {
          "base_uri": "https://localhost:8080/"
        }
      },
      "source": [
        "model.summary()"
      ],
      "execution_count": 7,
      "outputs": [
        {
          "output_type": "stream",
          "text": [
            "Model: \"sequential\"\n",
            "_________________________________________________________________\n",
            "Layer (type)                 Output Shape              Param #   \n",
            "=================================================================\n",
            "dense (Dense)                (None, 8)                 72        \n",
            "_________________________________________________________________\n",
            "dense_1 (Dense)              (None, 16)                144       \n",
            "_________________________________________________________________\n",
            "dense_2 (Dense)              (None, 8)                 136       \n",
            "_________________________________________________________________\n",
            "dense_3 (Dense)              (None, 1)                 9         \n",
            "=================================================================\n",
            "Total params: 361\n",
            "Trainable params: 361\n",
            "Non-trainable params: 0\n",
            "_________________________________________________________________\n"
          ],
          "name": "stdout"
        }
      ]
    },
    {
      "cell_type": "code",
      "metadata": {
        "id": "zGya4W1CFwU8",
        "outputId": "efa2fb1d-353f-45ea-b130-9f842698b694",
        "colab": {
          "base_uri": "https://localhost:8080/"
        }
      },
      "source": [
        "history = model.fit(\n",
        "    X_train,\n",
        "    y_train,\n",
        "    epochs=20,\n",
        "    validation_split=0.2\n",
        ")\n"
      ],
      "execution_count": 8,
      "outputs": [
        {
          "output_type": "stream",
          "text": [
            "Epoch 1/20\n",
            "387/387 [==============================] - 1s 1ms/step - loss: 1.0632 - val_loss: 0.6514\n",
            "Epoch 2/20\n",
            "387/387 [==============================] - 0s 991us/step - loss: 0.5350 - val_loss: 0.4673\n",
            "Epoch 3/20\n",
            "387/387 [==============================] - 0s 1ms/step - loss: 0.4280 - val_loss: 0.4217\n",
            "Epoch 4/20\n",
            "387/387 [==============================] - 0s 1000us/step - loss: 0.3984 - val_loss: 0.4027\n",
            "Epoch 5/20\n",
            "387/387 [==============================] - 0s 689us/step - loss: 0.3841 - val_loss: 0.3945\n",
            "Epoch 6/20\n",
            "387/387 [==============================] - 0s 1ms/step - loss: 0.3754 - val_loss: 0.3885\n",
            "Epoch 7/20\n",
            "387/387 [==============================] - 0s 1ms/step - loss: 0.3703 - val_loss: 0.3846\n",
            "Epoch 8/20\n",
            "387/387 [==============================] - 0s 986us/step - loss: 0.3660 - val_loss: 0.3781\n",
            "Epoch 9/20\n",
            "387/387 [==============================] - 0s 989us/step - loss: 0.3627 - val_loss: 0.3771\n",
            "Epoch 10/20\n",
            "387/387 [==============================] - 0s 1ms/step - loss: 0.3603 - val_loss: 0.3775\n",
            "Epoch 11/20\n",
            "387/387 [==============================] - 0s 1ms/step - loss: 0.3578 - val_loss: 0.3741\n",
            "Epoch 12/20\n",
            "387/387 [==============================] - 0s 1ms/step - loss: 0.3554 - val_loss: 0.3702\n",
            "Epoch 13/20\n",
            "387/387 [==============================] - 0s 991us/step - loss: 0.3543 - val_loss: 0.3665\n",
            "Epoch 14/20\n",
            "387/387 [==============================] - 0s 1ms/step - loss: 0.3525 - val_loss: 0.3653\n",
            "Epoch 15/20\n",
            "387/387 [==============================] - 0s 1ms/step - loss: 0.3508 - val_loss: 0.3657\n",
            "Epoch 16/20\n",
            "387/387 [==============================] - 0s 1ms/step - loss: 0.3492 - val_loss: 0.3649\n",
            "Epoch 17/20\n",
            "387/387 [==============================] - 0s 1ms/step - loss: 0.3480 - val_loss: 0.3654\n",
            "Epoch 18/20\n",
            "387/387 [==============================] - 0s 1ms/step - loss: 0.3470 - val_loss: 0.3635\n",
            "Epoch 19/20\n",
            "387/387 [==============================] - 0s 1ms/step - loss: 0.3455 - val_loss: 0.3617\n",
            "Epoch 20/20\n",
            "387/387 [==============================] - 0s 1ms/step - loss: 0.3447 - val_loss: 0.3616\n"
          ],
          "name": "stdout"
        }
      ]
    },
    {
      "cell_type": "code",
      "metadata": {
        "id": "d9CvLxKzGfyh",
        "outputId": "4972f202-dc77-4477-cf86-1cb5c6157727",
        "colab": {
          "base_uri": "https://localhost:8080/",
          "height": 324
        }
      },
      "source": [
        "pd.DataFrame(history.history).plot(figsize=(8, 5))\n",
        "plt.grid(True)\n",
        "plt.gca().set_ylim(0, 1)\n",
        "plt.show()"
      ],
      "execution_count": 9,
      "outputs": [
        {
          "output_type": "display_data",
          "data": {
            "image/png": "[encoded data removed]",
            "text/plain": [
              "<Figure size 576x360 with 1 Axes>"
            ]
          },
          "metadata": {
            "tags": [],
            "needs_background": "light"
          }
        }
      ]
    },
    {
      "cell_type": "code",
      "metadata": {
        "id": "-LaidXfaHHn9",
        "outputId": "d6a9e712-61ed-4635-cb3e-597d967fbe06",
        "colab": {
          "base_uri": "https://localhost:8080/"
        }
      },
      "source": [
        "mse_test = model.evaluate(X_test, y_test)\n",
        "y_pred = model.predict(X_test)"
      ],
      "execution_count": 13,
      "outputs": [
        {
          "output_type": "stream",
          "text": [
            "162/162 [==============================] - 0s 660us/step - loss: 0.3537\n"
          ],
          "name": "stdout"
        }
      ]
    }
  ]
}